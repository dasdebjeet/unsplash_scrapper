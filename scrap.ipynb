{
 "cells": [
  {
   "attachments": {},
   "cell_type": "markdown",
   "id": "0bdaaa5f-43c3-4480-874a-0df91abcff31",
   "metadata": {},
   "source": [
    "<img src=\"https://raw.githubusercontent.com/dasdebjeet/unsplash_scrapper/main/static/assests/banner_scapper_logo.png?token=GHSAT0AAAAAABVUUNRO2SYW35ELAYREYOGSY6OJR5A\">"
   ]
  },
  {
   "cell_type": "code",
   "execution_count": 19,
   "id": "2483e6cb-6058-403b-961d-5fc898db51ce",
   "metadata": {},
   "outputs": [],
   "source": [
    "from selenium import webdriver\n",
    "from selenium.webdriver.chrome.service import Service\n",
    "from webdriver_manager.chrome import ChromeDriverManager\n",
    "\n",
    "from selenium.webdriver.common.by import By\n",
    "from selenium.webdriver.support import expected_conditions as EC\n",
    "from selenium.webdriver.support.ui import WebDriverWait as wait\n",
    "\n",
    "from selenium.webdriver.common.keys import Keys\n",
    "\n",
    "import os, shutil, requests, io, time\n",
    "\n",
    "\n",
    "from PIL import Image"
   ]
  },
  {
   "cell_type": "markdown",
   "id": "63ad9db5-8866-4a87-bf98-cddcab22bc00",
   "metadata": {},
   "source": [
    "# Unsplash Webscarpper"
   ]
  },
  {
   "cell_type": "code",
   "execution_count": 58,
   "id": "6ada1b75-604d-4769-8a97-83b1ad64a878",
   "metadata": {},
   "outputs": [],
   "source": [
    "def downloader(download_path, url, file_name):\n",
    "    try: \n",
    "        image_content = requests.get(url).content\n",
    "\n",
    "        image_file = io.BytesIO(image_content)\n",
    "        image = Image.open(image_file)\n",
    "        file_path = download_path + file_name\n",
    "        \n",
    "\n",
    "        with open(file_path, \"wb\") as f:\n",
    "            image.save(f, \"PNG\")\n",
    "\n",
    "        print(f\"Downloaded: {file_name}\")\n",
    "    except Exception as e:\n",
    "        print(f\"Failed to download: {file_name}\\t Error: {e}\")"
   ]
  },
  {
   "cell_type": "code",
   "execution_count": 69,
   "id": "cec47065-4972-4303-9966-9a9bf9f9cc72",
   "metadata": {},
   "outputs": [],
   "source": [
    "def download_image(destination_folder, urls, filename):\n",
    "    \n",
    "    # cur_dir = os.getcwd()\n",
    "    download_folder = os.path.expanduser('~/downloads')\n",
    "    \n",
    "    if \" \" in filename:\n",
    "        filename = filename.replace(\" \", \"_\")\n",
    "    \n",
    "    if not destination_folder:\n",
    "        destination_folder = download_folder + f\"/{filename}_images/\"\n",
    "\n",
    "        print(f\"Creating: {filename} images folder..\")\n",
    "        if os.path.exists(destination_folder) and os.path.isdir(destination_folder):\n",
    "            print(\"Error: Folder already exists \" + filename + \"_images folder\")\n",
    "            shutil.rmtree(destination_folder)\n",
    "            print(\"Deleted folder... 🗑️\")\n",
    "        os.mkdir(destination_folder)\n",
    "    else:\n",
    "        destination_folder = destination_folder + \"/\"\n",
    "\n",
    "    for i, item in enumerate(urls):\n",
    "        downloader(destination_folder, item, f\"{filename}-img_{str(i+1)}.png\")"
   ]
  },
  {
   "cell_type": "code",
   "execution_count": 22,
   "id": "4536f146-8bf9-4ae3-ac40-a3932f6825ce",
   "metadata": {},
   "outputs": [],
   "source": [
    "def unsplash_scrapper(value, count):\n",
    "    value = value\n",
    "    count = count\n",
    "    \n",
    "    unsplash_thumbnail_list = driver.find_elements(By.XPATH, \"//img[@itemprop='thumbnailUrl']\")\n",
    "\n",
    "    unsplash_thumbnail_list[0].click()\n",
    "    time.sleep(1)\n",
    "\n",
    "    src_list = set()\n",
    "\n",
    "    print(f\"Scrapping images of {value}...\")\n",
    "    for i in range(count):\n",
    "        try:\n",
    "            src_list.add(driver.find_element(By.CSS_SELECTOR, \".btXSB img\").get_attribute('src'))\n",
    "\n",
    "            nxt_btn = driver.find_element(By.XPATH, \"//a[@title='Next']\")\n",
    "            nxt_btn.click()\n",
    "\n",
    "            time.sleep(.1)\n",
    "        except Exception as e:\n",
    "            print(f\"Error occured: {e}\")\n",
    "    print(f\"Sucessfully scrapped images!\")\n",
    "    driver.close()    \n",
    "    return src_list"
   ]
  },
  {
   "cell_type": "code",
   "execution_count": 23,
   "id": "b5771d0a-0bf6-4f3a-8059-8792b24b1bb4",
   "metadata": {},
   "outputs": [],
   "source": [
    "def get_search_input(value):\n",
    "    if value:\n",
    "        unsplash_inp = driver.find_element(By.CLASS_NAME, \"ctM_F\")\n",
    "\n",
    "        # value = \"nature\"\n",
    "        unsplash_inp.send_keys(value)\n",
    "        unsplash_inp.send_keys(Keys.ENTER)\n",
    "\n",
    "        time.sleep(1)\n",
    "    else:print(\"Nothing to search\")"
   ]
  },
  {
   "cell_type": "code",
   "execution_count": 24,
   "id": "54df91e8-5d95-428a-8762-3d97447613ab",
   "metadata": {},
   "outputs": [],
   "source": [
    "def scrap(input_value, count, destination_folder):\n",
    "    val = input_value\n",
    "    n = count\n",
    "    destination_folder = destination_folder\n",
    "    \n",
    "    \n",
    "    get_search_input(val)\n",
    "    image_urls = unsplash_scrapper(val, n)\n",
    "    \n",
    "    download_image(destination_folder, image_urls, val)"
   ]
  },
  {
   "cell_type": "code",
   "execution_count": 88,
   "id": "5d27b42e-f5d0-4d81-b0e9-8d141429b9ea",
   "metadata": {},
   "outputs": [
    {
     "name": "stdout",
     "output_type": "stream",
     "text": [
      "Connecting...\n",
      "Connected to Unsplash\n",
      "\n",
      "Scrapping images of russia...\n",
      "Sucessfully scrapped images!\n",
      "Creating: russia images folder..\n",
      "Downloaded: russia-img_1.png\n",
      "Downloaded: russia-img_2.png\n",
      "Downloaded: russia-img_3.png\n",
      "Downloaded: russia-img_4.png\n",
      "Downloaded: russia-img_5.png\n",
      "\n",
      "\n",
      "DONE...!\n"
     ]
    }
   ],
   "source": [
    "from selenium.webdriver.chrome.options import Options\n",
    "options = Options()\n",
    "options.add_argument(\"--headless\")\n",
    "\n",
    "driver = webdriver.Chrome(service=Service(ChromeDriverManager().install()), options=options)\n",
    "\n",
    "\n",
    "\n",
    "print(\"Connecting...\")\n",
    "driver.get(\"https://unsplash.com\")\n",
    "print(\"Connected to Unsplash\\n\")\n",
    "\n",
    "# destination_folder = r\"C:\\Users\\Debjeet's PC\\Desktop\\web_scraper\"\n",
    "destination_folder = \"\"\n",
    "\n",
    "scrap(\"russia\", 5, destination_folder)\n",
    "driver.quit()\n",
    "\n",
    "print(\"\\n\\nDONE...!\")"
   ]
  },
  {
   "cell_type": "code",
   "execution_count": null,
   "id": "e53886b8-936b-42b2-8a1e-dfe32b1f5e38",
   "metadata": {},
   "outputs": [],
   "source": []
  }
 ],
 "metadata": {
  "kernelspec": {
   "display_name": "Python 3",
   "language": "python",
   "name": "python3"
  },
  "language_info": {
   "codemirror_mode": {
    "name": "ipython",
    "version": 3
   },
   "file_extension": ".py",
   "mimetype": "text/x-python",
   "name": "python",
   "nbconvert_exporter": "python",
   "pygments_lexer": "ipython3",
   "version": "3.10.4 (tags/v3.10.4:9d38120, Mar 23 2022, 23:13:41) [MSC v.1929 64 bit (AMD64)]"
  },
  "vscode": {
   "interpreter": {
    "hash": "26de051ba29f2982a8de78e945f0abaf191376122a1563185a90213a26c5da77"
   }
  },
  "widgets": {
   "application/vnd.jupyter.widget-state+json": {
    "state": {},
    "version_major": 2,
    "version_minor": 0
   }
  }
 },
 "nbformat": 4,
 "nbformat_minor": 5
}

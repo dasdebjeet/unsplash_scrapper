{
 "cells": [
  {
   "cell_type": "markdown",
   "id": "0bdaaa5f-43c3-4480-874a-0df91abcff31",
   "metadata": {},
   "source": [
    "<img src=\"./static/assests/banner_scapper_logo.png\">"
   ]
  },
  {
   "cell_type": "code",
   "execution_count": 19,
   "id": "2483e6cb-6058-403b-961d-5fc898db51ce",
   "metadata": {},
   "outputs": [],
   "source": [
    "from selenium import webdriver\n",
    "from selenium.webdriver.chrome.service import Service\n",
    "from webdriver_manager.chrome import ChromeDriverManager\n",
    "\n",
    "from selenium.webdriver.common.by import By\n",
    "from selenium.webdriver.support import expected_conditions as EC\n",
    "from selenium.webdriver.support.ui import WebDriverWait as wait\n",
    "\n",
    "from selenium.webdriver.common.keys import Keys\n",
    "\n",
    "import os, shutil, requests, io, time\n",
    "\n",
    "\n",
    "from PIL import Image"
   ]
  },
  {
   "cell_type": "markdown",
   "id": "63ad9db5-8866-4a87-bf98-cddcab22bc00",
   "metadata": {},
   "source": [
    "# Unsplash Webscarpper"
   ]
  },
  {
   "cell_type": "code",
   "execution_count": 58,
   "id": "6ada1b75-604d-4769-8a97-83b1ad64a878",
   "metadata": {},
   "outputs": [],
   "source": [
    "def downloader(download_path, url, file_name):\n",
    "    try: \n",
    "        image_content = requests.get(url).content\n",
    "\n",
    "        image_file = io.BytesIO(image_content)\n",
    "        image = Image.open(image_file)\n",
    "        file_path = download_path + file_name\n",
    "        \n",
    "\n",
    "        with open(file_path, \"wb\") as f:\n",
    "            image.save(f, \"PNG\")\n",
    "\n",
    "        print(f\"Downloaded: {file_name}\")\n",
    "    except Exception as e:\n",
    "        print(f\"Failed to download: {file_name}\\t Error: {e}\")"
   ]
  },
  {
   "cell_type": "code",
   "execution_count": 68,
   "id": "cec47065-4972-4303-9966-9a9bf9f9cc72",
   "metadata": {},
   "outputs": [],
   "source": [
    "def download_image(destination_folder, urls, filename):\n",
    "    \n",
    "    # cur_dir = os.getcwd()\n",
    "    download_folder = os.path.expanduser('~/downloads')\n",
    "    \n",
    "    if \" \" in filename:\n",
    "        filename = filename.replace(\" \", \"_\")\n",
    "    \n",
    "    if not destination_folder:\n",
    "        destination_folder = download_folder + f\"/{filename}_images/\"\n",
    "\n",
    "        print(f\"Creating: {filename} images folder..\")\n",
    "        if os.path.exists(destination_folder) and os.path.isdir(destination_folder):\n",
    "            print(\"Error: Folder already exists \" + filename + \"_images folder\")\n",
    "            shutil.rmtree(destination_folder)\n",
    "            print(\"Deleted folder... 🗑️\")\n",
    "        os.mkdir(destination_folder)\n",
    "    else:\n",
    "        destination_folder = destination_folder + \"/\"\n",
    "\n",
    "    for i, item in enumerate(urls):\n",
    "        downloader(destination_folder, item, f\"{filename}-img_{str(i+1)}.png\")"
   ]
  },
  {
   "cell_type": "code",
   "execution_count": 22,
   "id": "4536f146-8bf9-4ae3-ac40-a3932f6825ce",
   "metadata": {},
   "outputs": [],
   "source": [
    "def unsplash_scrapper(value, count):\n",
    "    value = value\n",
    "    count = count\n",
    "    \n",
    "    unsplash_thumbnail_list = driver.find_elements(By.XPATH, \"//img[@itemprop='thumbnailUrl']\")\n",
    "\n",
    "    unsplash_thumbnail_list[0].click()\n",
    "    time.sleep(1)\n",
    "\n",
    "    src_list = set()\n",
    "\n",
    "    print(f\"Scrapping images of {value}...\")\n",
    "    for i in range(count):\n",
    "        try:\n",
    "            src_list.add(driver.find_element(By.CSS_SELECTOR, \".btXSB img\").get_attribute('src'))\n",
    "\n",
    "            nxt_btn = driver.find_element(By.XPATH, \"//a[@title='Next']\")\n",
    "            nxt_btn.click()\n",
    "\n",
    "            time.sleep(.1)\n",
    "        except Exception as e:\n",
    "            print(f\"Error occured: {e}\")\n",
    "    print(f\"Sucessfully scrapped images!\")\n",
    "    driver.close()    \n",
    "    return src_list"
   ]
  },
  {
   "cell_type": "code",
   "execution_count": 23,
   "id": "b5771d0a-0bf6-4f3a-8059-8792b24b1bb4",
   "metadata": {},
   "outputs": [],
   "source": [
    "def get_search_input(value):\n",
    "    if value:\n",
    "        unsplash_inp = driver.find_element(By.CLASS_NAME, \"ctM_F\")\n",
    "\n",
    "        # value = \"nature\"\n",
    "        unsplash_inp.send_keys(value)\n",
    "        unsplash_inp.send_keys(Keys.ENTER)\n",
    "\n",
    "        time.sleep(1)\n",
    "    else:print(\"Nothing to search\")"
   ]
  },
  {
   "cell_type": "code",
   "execution_count": 24,
   "id": "54df91e8-5d95-428a-8762-3d97447613ab",
   "metadata": {},
   "outputs": [],
   "source": [
    "def scrap(input_value, count, destination_folder):\n",
    "    val = input_value\n",
    "    n = count\n",
    "    destination_folder = destination_folder\n",
    "    \n",
    "    \n",
    "    get_search_input(val)\n",
    "    image_urls = unsplash_scrapper(val, n)\n",
    "    \n",
    "    download_image(destination_folder, image_urls, val)"
   ]
  },
  {
   "cell_type": "code",
   "execution_count": 66,
   "id": "5d27b42e-f5d0-4d81-b0e9-8d141429b9ea",
   "metadata": {},
   "outputs": [
    {
     "name": "stdout",
     "output_type": "stream",
     "text": [
      "Connecting...\n",
      "Connected to Unsplash\n",
      "\n",
      "Scrapping images of tokyo...\n",
      "Sucessfully scrapped images!\n",
      "Downloaded: tokyo-img_1.png\n",
      "Downloaded: tokyo-img_2.png\n",
      "Downloaded: tokyo-img_3.png\n",
      "Downloaded: tokyo-img_4.png\n",
      "Downloaded: tokyo-img_5.png\n",
      "\n",
      "\n",
      "DONE...!\n"
     ]
    }
   ],
   "source": [
    "from selenium.webdriver.chrome.options import Options\n",
    "options = Options()\n",
    "options.add_argument(\"--headless\")\n",
    "\n",
    "driver = webdriver.Chrome(service=Service(ChromeDriverManager().install()), options=options)\n",
    "\n",
    "\n",
    "\n",
    "print(\"Connecting...\")\n",
    "driver.get(\"https://unsplash.com\")\n",
    "print(\"Connected to Unsplash\\n\")\n",
    "\n",
    "destination_folder = r\"C:\\Users\\Debjeet's PC\\Desktop\\web_scraper/\"\n",
    "# destination_folder = \"\"\n",
    "\n",
    "scrap(\"tokyo\", 5, destination_folder)\n",
    "driver.quit()\n",
    "\n",
    "print(\"\\n\\nDONE...!\")"
   ]
  },
  {
   "cell_type": "code",
   "execution_count": 17,
   "id": "07f61d85-93a1-4386-98a0-c735c7174004",
   "metadata": {},
   "outputs": [
    {
     "data": {
      "text/plain": [
       "True"
      ]
     },
     "execution_count": 17,
     "metadata": {},
     "output_type": "execute_result"
    }
   ],
   "source": [
    "f_name = r\"C:\\Users\\Debjeet's PC\\Desktop\\web_scraper/\"\n",
    "os.path.isdir(f_name)"
   ]
  },
  {
   "cell_type": "code",
   "execution_count": 18,
   "id": "787104bf-6475-46f3-8c7e-80dac8d01bb7",
   "metadata": {},
   "outputs": [
    {
     "data": {
      "text/plain": [
       "'/'"
      ]
     },
     "execution_count": 18,
     "metadata": {},
     "output_type": "execute_result"
    }
   ],
   "source": [
    "f_name[-1]"
   ]
  },
  {
   "cell_type": "code",
   "execution_count": 31,
   "id": "3637c200-59b6-4967-b9ac-c1aeea410abe",
   "metadata": {},
   "outputs": [],
   "source": [
    "f_url = \"https://upload.wikimedia.org/wikipedia/commons/thumb/0/05/View_of_Empire_State_Building_from_Rockefeller_Center_New_York_City_dllu.jpg/1200px-View_of_Empire_State_Building_from_Rockefeller_Center_New_York_City_dllu.jpg\""
   ]
  },
  {
   "cell_type": "code",
   "execution_count": 37,
   "id": "d3da7133-7324-4938-9cb9-639776c7e5fd",
   "metadata": {},
   "outputs": [
    {
     "name": "stdout",
     "output_type": "stream",
     "text": [
      "C:\\Users\\Debjeet's PC\\Desktop\\web_scraper/nyc.png\n",
      "Downloaded: nyc.png\n"
     ]
    }
   ],
   "source": [
    "downloader(r\"C:\\Users\\Debjeet's PC\\Desktop\\web_scraper/\", f_url, \"nyc.png\")"
   ]
  },
  {
   "cell_type": "code",
   "execution_count": 53,
   "id": "7ef80e63-b662-4cfa-9408-ebcd15d105d1",
   "metadata": {},
   "outputs": [
    {
     "ename": "FileNotFoundError",
     "evalue": "[WinError 3] The system cannot find the path specified: 'C:\\\\Users\\\\Debjeet\\\\Desktop\\\\web_scraper/tokyo_images'",
     "output_type": "error",
     "traceback": [
      "\u001b[1;31m---------------------------------------------------------------------------\u001b[0m",
      "\u001b[1;31mFileNotFoundError\u001b[0m                         Traceback (most recent call last)",
      "Input \u001b[1;32mIn [53]\u001b[0m, in \u001b[0;36m<cell line: 1>\u001b[1;34m()\u001b[0m\n\u001b[1;32m----> 1\u001b[0m \u001b[43mos\u001b[49m\u001b[38;5;241;43m.\u001b[39;49m\u001b[43mmkdir\u001b[49m\u001b[43m(\u001b[49m\u001b[38;5;124;43m'\u001b[39;49m\u001b[38;5;124;43mC:\u001b[39;49m\u001b[38;5;130;43;01m\\\\\u001b[39;49;00m\u001b[38;5;124;43mUsers\u001b[39;49m\u001b[38;5;130;43;01m\\\\\u001b[39;49;00m\u001b[38;5;124;43mDebjeet\u001b[39;49m\u001b[38;5;130;43;01m\\\\\u001b[39;49;00m\u001b[38;5;124;43mDesktop\u001b[39;49m\u001b[38;5;130;43;01m\\\\\u001b[39;49;00m\u001b[38;5;124;43mweb_scraper/tokyo_images\u001b[39;49m\u001b[38;5;124;43m'\u001b[39;49m\u001b[43m)\u001b[49m\n",
      "\u001b[1;31mFileNotFoundError\u001b[0m: [WinError 3] The system cannot find the path specified: 'C:\\\\Users\\\\Debjeet\\\\Desktop\\\\web_scraper/tokyo_images'"
     ]
    }
   ],
   "source": [
    "os.mkdir('C:\\\\Users\\\\Debjeet\\\\Desktop\\\\web_scraper/tokyo_images')"
   ]
  },
  {
   "cell_type": "code",
   "execution_count": 67,
   "id": "626c700b-bd7b-432c-943d-df8b675b8b1f",
   "metadata": {},
   "outputs": [
    {
     "data": {
      "text/plain": [
       "\"C:\\\\Users\\\\Debjeet's PC/downloads\""
      ]
     },
     "execution_count": 67,
     "metadata": {},
     "output_type": "execute_result"
    }
   ],
   "source": [
    "os.path.expanduser('~/downloads')"
   ]
  },
  {
   "cell_type": "code",
   "execution_count": null,
   "id": "35ee6b8a-09ed-43c3-9a3d-ee1996fddf71",
   "metadata": {},
   "outputs": [],
   "source": []
  }
 ],
 "metadata": {
  "kernelspec": {
   "display_name": "Python 3 (ipykernel)",
   "language": "python",
   "name": "python3"
  },
  "language_info": {
   "codemirror_mode": {
    "name": "ipython",
    "version": 3
   },
   "file_extension": ".py",
   "mimetype": "text/x-python",
   "name": "python",
   "nbconvert_exporter": "python",
   "pygments_lexer": "ipython3",
   "version": "3.10.4"
  },
  "widgets": {
   "application/vnd.jupyter.widget-state+json": {
    "state": {},
    "version_major": 2,
    "version_minor": 0
   }
  }
 },
 "nbformat": 4,
 "nbformat_minor": 5
}
